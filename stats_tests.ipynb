{
 "cells": [
  {
   "cell_type": "code",
   "execution_count": 2,
   "metadata": {},
   "outputs": [],
   "source": [
    "import pandas as pd \n",
    "import numpy as np \n",
    "import scipy \n",
    "from matplotlib import pyplot as plt \n",
    "import seaborn as sns \n",
    "\n",
    "import random\n",
    "from numpy.random import randn \n",
    "from numpy.random import seed \n",
    "from numpy import mean \n",
    "from numpy import std "
   ]
  },
  {
   "cell_type": "code",
   "execution_count": 3,
   "metadata": {},
   "outputs": [
    {
     "name": "stdout",
     "output_type": "stream",
     "text": [
      "-0.02551484800765029\n",
      "0.969589282958136\n"
     ]
    }
   ],
   "source": [
    "# creating the data \n",
    "seed(1)\n",
    "\n",
    "\n",
    "# creating 100 random numbers \n",
    "data1 = randn(50)\n",
    "# sns.kdeplot(data1)\n",
    "print(mean(data1))  # mean almost 0 \n",
    "print(std(data1)) # std almost 1 \n",
    "# the above generated data is from normal distribution "
   ]
  },
  {
   "cell_type": "code",
   "execution_count": 4,
   "metadata": {},
   "outputs": [
    {
     "name": "stdout",
     "output_type": "stream",
     "text": [
      "['bayesian_classifier.ipynb', 'pca.py', 'lr_with_mask_headers.ipynb.ipynb', 'logistic_regression.ipynb', 'k_means_clustering.ipynb', '.ipynb_checkpoints', '.vscode', 'gradient_descent_implementation.ipynb', 'knn.py', 'boosting_bagging_20122011.ipynb', '.git', 'naive_bayes.py', 'data', 'perceptron_with_multi_activations.ipynb', 'svm_applied.ipynb', 'k_means_algorithm.py', 'nb.ipynb', 'perceptron.py', 'README.md', 'lda.py', 'svm_from_scratch.py', 'heirarchical_clustering.ipynb']\n"
     ]
    }
   ],
   "source": [
    "# printing the file names using os.listdir()\n",
    "import os \n",
    "datasets  = os.listdir('/home/thomaskutty/Gitrepo/Machine-Learning-with-Python')\n",
    "print(datasets) "
   ]
  },
  {
   "cell_type": "code",
   "execution_count": 5,
   "metadata": {},
   "outputs": [
    {
     "data": {
      "text/plain": [
       "24.198646592934963"
      ]
     },
     "execution_count": 5,
     "metadata": {},
     "output_type": "execute_result"
    }
   ],
   "source": [
    "# getting a float ranodm from the unifform distribution  \n",
    "random.uniform(23,25)  "
   ]
  },
  {
   "cell_type": "code",
   "execution_count": 6,
   "metadata": {},
   "outputs": [],
   "source": [
    "\n",
    "data_2 = random.sample(range(1,200), 50) \n",
    "data2 = [i/10 for i in data_2] "
   ]
  },
  {
   "cell_type": "code",
   "execution_count": 7,
   "metadata": {},
   "outputs": [],
   "source": [
    "# getting random numbers \n",
    "data_3 = random.sample(range(23,83), 50) \n"
   ]
  },
  {
   "cell_type": "markdown",
   "metadata": {},
   "source": [
    "# Random Numbers generation"
   ]
  },
  {
   "cell_type": "code",
   "execution_count": 8,
   "metadata": {},
   "outputs": [
    {
     "data": {
      "text/plain": [
       "35"
      ]
     },
     "execution_count": 8,
     "metadata": {},
     "output_type": "execute_result"
    }
   ],
   "source": [
    "# getting a random integer bettween two nubmers \n",
    "random.randint(2,38)"
   ]
  },
  {
   "cell_type": "code",
   "execution_count": 9,
   "metadata": {},
   "outputs": [
    {
     "data": {
      "text/plain": [
       "5"
      ]
     },
     "execution_count": 9,
     "metadata": {},
     "output_type": "execute_result"
    }
   ],
   "source": [
    "# creating a random element from a sequence \n",
    "seq = [3,21,5,2]\n",
    "random.choice(seq)"
   ]
  },
  {
   "cell_type": "code",
   "execution_count": 10,
   "metadata": {},
   "outputs": [
    {
     "name": "stdout",
     "output_type": "stream",
     "text": [
      "[52, 32, 5, 2, 25, 32, 35, 3, 2, 5, 3, 3]\n"
     ]
    }
   ],
   "source": [
    "# shuffling a data \n",
    "y = [3,2,5,3,3,2,5,32,32,52,35,25]\n",
    "random.shuffle(y)\n",
    "print(y)"
   ]
  },
  {
   "cell_type": "code",
   "execution_count": 11,
   "metadata": {},
   "outputs": [
    {
     "name": "stdout",
     "output_type": "stream",
     "text": [
      "[9, 23, 20, 18, 10, 24, 3, 6, 22, 13, 25, 1, 2, 21, 16, 0, 15, 12, 11, 19, 17, 5, 14]\n"
     ]
    }
   ],
   "source": [
    "# taking a sample from a population \n",
    "pop = list(range(0,26))\n",
    "print(random.sample(pop,23))"
   ]
  },
  {
   "cell_type": "code",
   "execution_count": 12,
   "metadata": {},
   "outputs": [
    {
     "data": {
      "text/plain": [
       "0.5356171425583887"
      ]
     },
     "execution_count": 12,
     "metadata": {},
     "output_type": "execute_result"
    }
   ],
   "source": [
    "# getting real valued random number \n",
    "random.random()"
   ]
  },
  {
   "cell_type": "code",
   "execution_count": 13,
   "metadata": {},
   "outputs": [
    {
     "data": {
      "text/plain": [
       "2.052253654670846"
      ]
     },
     "execution_count": 13,
     "metadata": {},
     "output_type": "execute_result"
    }
   ],
   "source": [
    "random.gauss(2,0.4)"
   ]
  },
  {
   "cell_type": "code",
   "execution_count": 14,
   "metadata": {},
   "outputs": [
    {
     "name": "stdout",
     "output_type": "stream",
     "text": [
      "[2.6666121075337115, 2.970894670835316, 3.4021208243818726, 2.7598831782888835, 3.363976360795568, 2.5999534345138167, 2.1452936885418388, 2.8910381358937234, 2.079785126533581, 2.952454184124109, 3.5902939596914614, 2.1275831056437733, 3.862799774755957, 3.1717199633592594, 3.833713994325195, 3.4730730290845653, 3.128461952823374, 2.8566505221044083, 3.5830688165784035, 2.3845470606171397, 3.2274535068127372, 3.1474930198991795, 3.3517883938140764, 2.7164498521445095, 3.4264233518138134, 2.8134876951001067, 3.199930019045515, 3.24972670469696, 3.3465646475895374, 3.1671569101064208, 3.2815591308361913, 2.8080580877158847, 2.624725928874563, 3.0876010991998117, 2.3327679774581926, 3.8780369114025386, 3.0905183470576905, 3.211035345968442, 3.2800745916109753, 3.1016390292353786, 2.357805234590356, 3.0838401507658015, 2.8719332855723962, 2.501510947325047, 3.1654573498285123, 3.154309132010587, 3.3454213113646873, 4.066421716650172, 2.886903216553687, 3.303164630007406]\n"
     ]
    }
   ],
   "source": [
    "gauss_data1 =  [random.gauss(3,0.5) for i in range(0,50)]   # with mu 3 and std 0.5 \n",
    "print(gauss_data1)"
   ]
  },
  {
   "cell_type": "markdown",
   "metadata": {},
   "source": [
    "# Testing "
   ]
  },
  {
   "cell_type": "code",
   "execution_count": 17,
   "metadata": {},
   "outputs": [],
   "source": [
    "# df1 = gauss_data1 ( from mu 3 and std 0.5 popluation )\n",
    "# df2 = sample  from a range() \n",
    "# df3 =  using randn(counts ) "
   ]
  },
  {
   "cell_type": "code",
   "execution_count": 19,
   "metadata": {},
   "outputs": [],
   "source": [
    "df1 = [random.gauss(3,0.5) for i in range(0,50)]   # with mu 3 and std 0.5\n",
    "df2 = random.sample(range(1000), 50)\n",
    "df3 = randn(50) + 240 "
   ]
  },
  {
   "cell_type": "code",
   "execution_count": 22,
   "metadata": {},
   "outputs": [
    {
     "data": {
      "text/html": [
       "<div>\n",
       "<style scoped>\n",
       "    .dataframe tbody tr th:only-of-type {\n",
       "        vertical-align: middle;\n",
       "    }\n",
       "\n",
       "    .dataframe tbody tr th {\n",
       "        vertical-align: top;\n",
       "    }\n",
       "\n",
       "    .dataframe thead th {\n",
       "        text-align: right;\n",
       "    }\n",
       "</style>\n",
       "<table border=\"1\" class=\"dataframe\">\n",
       "  <thead>\n",
       "    <tr style=\"text-align: right;\">\n",
       "      <th></th>\n",
       "      <th>x1</th>\n",
       "      <th>x2</th>\n",
       "      <th>x3</th>\n",
       "    </tr>\n",
       "  </thead>\n",
       "  <tbody>\n",
       "    <tr>\n",
       "      <th>0</th>\n",
       "      <td>2.624024</td>\n",
       "      <td>706</td>\n",
       "      <td>240.300170</td>\n",
       "    </tr>\n",
       "    <tr>\n",
       "      <th>1</th>\n",
       "      <td>3.019173</td>\n",
       "      <td>100</td>\n",
       "      <td>239.647750</td>\n",
       "    </tr>\n",
       "    <tr>\n",
       "      <th>2</th>\n",
       "      <td>3.106840</td>\n",
       "      <td>724</td>\n",
       "      <td>238.857482</td>\n",
       "    </tr>\n",
       "    <tr>\n",
       "      <th>3</th>\n",
       "      <td>2.865221</td>\n",
       "      <td>517</td>\n",
       "      <td>239.650657</td>\n",
       "    </tr>\n",
       "    <tr>\n",
       "      <th>4</th>\n",
       "      <td>2.769346</td>\n",
       "      <td>530</td>\n",
       "      <td>239.791106</td>\n",
       "    </tr>\n",
       "  </tbody>\n",
       "</table>\n",
       "</div>"
      ],
      "text/plain": [
       "         x1   x2          x3\n",
       "0  2.624024  706  240.300170\n",
       "1  3.019173  100  239.647750\n",
       "2  3.106840  724  238.857482\n",
       "3  2.865221  517  239.650657\n",
       "4  2.769346  530  239.791106"
      ]
     },
     "execution_count": 22,
     "metadata": {},
     "output_type": "execute_result"
    }
   ],
   "source": [
    "df_final = pd.DataFrame({'x1':df1,'x2':df2, 'x3':df3 })\n",
    "df_final.head(5) "
   ]
  },
  {
   "cell_type": "markdown",
   "metadata": {},
   "source": [
    "# T test \n",
    "# ==========================================\n",
    "\n",
    "### The Student's t-test is a statistical hypothesis test that two independent data samples known to have a Gaussian distribution. One of the most commonly used t-tests is the independent samples t test. We can use this test whenever we want to compare the means of two indpendent samples on a given a vairable. \n",
    "\n",
    "\n",
    "### The assumption or null hypothesis of the test is that the means of two populations are equal. A rejection of hypothesis indicates that there is suffiencient evidence that the means of the populations are different, and in turn the distributions are not equal. \n",
    "###  • Fail to reject Ho: Sample distributions are equal. \n",
    "### • Reject Ho: Sample distributions are not equal. \n",
    "### The Student's t-test is availbale in python via the ttest_ind() Scipy function. The function takes two data samples as arguments and returns the calculated satistic and p-value. \n"
   ]
  },
  {
   "cell_type": "code",
   "execution_count": null,
   "metadata": {},
   "outputs": [],
   "source": []
  }
 ],
 "metadata": {
  "kernelspec": {
   "display_name": "Python 3",
   "language": "python",
   "name": "python3"
  },
  "language_info": {
   "codemirror_mode": {
    "name": "ipython",
    "version": 3
   },
   "file_extension": ".py",
   "mimetype": "text/x-python",
   "name": "python",
   "nbconvert_exporter": "python",
   "pygments_lexer": "ipython3",
   "version": "3.8.3"
  }
 },
 "nbformat": 4,
 "nbformat_minor": 2
}

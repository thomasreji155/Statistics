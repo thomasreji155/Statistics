{
 "cells": [
  {
   "cell_type": "code",
   "execution_count": 100,
   "metadata": {},
   "outputs": [],
   "source": [
    "import numpy as np \n",
    "import pandas as pd \n",
    "import scipy \n",
    "from numpy.random import randn\n",
    "from numpy.random import seed\n",
    "\n",
    "from scipy.stats import ttest_ind  # independent samples t test \n",
    "from scipy.stats import ttest_rel # paired sample t test \n",
    "from scipy.stats import f_oneway  # one way anova \n",
    "from scipy.stats import chi2_contingency  # chisquare test\n",
    "\n",
    "import pingouin as pg "
   ]
  },
  {
   "cell_type": "markdown",
   "metadata": {},
   "source": [
    "# Data generation : \n",
    "randn , radom.sample, random.gauss, random.choice"
   ]
  },
  {
   "cell_type": "code",
   "execution_count": 64,
   "metadata": {},
   "outputs": [
    {
     "data": {
      "text/html": [
       "<div>\n",
       "<style scoped>\n",
       "    .dataframe tbody tr th:only-of-type {\n",
       "        vertical-align: middle;\n",
       "    }\n",
       "\n",
       "    .dataframe tbody tr th {\n",
       "        vertical-align: top;\n",
       "    }\n",
       "\n",
       "    .dataframe thead th {\n",
       "        text-align: right;\n",
       "    }\n",
       "</style>\n",
       "<table border=\"1\" class=\"dataframe\">\n",
       "  <thead>\n",
       "    <tr style=\"text-align: right;\">\n",
       "      <th></th>\n",
       "      <th>d1</th>\n",
       "      <th>d2</th>\n",
       "      <th>d3</th>\n",
       "    </tr>\n",
       "  </thead>\n",
       "  <tbody>\n",
       "    <tr>\n",
       "      <th>0</th>\n",
       "      <td>0.541127</td>\n",
       "      <td>11.0</td>\n",
       "      <td>-0.681984</td>\n",
       "    </tr>\n",
       "    <tr>\n",
       "      <th>1</th>\n",
       "      <td>-2.175816</td>\n",
       "      <td>18.0</td>\n",
       "      <td>6.871969</td>\n",
       "    </tr>\n",
       "    <tr>\n",
       "      <th>2</th>\n",
       "      <td>-0.824084</td>\n",
       "      <td>5.0</td>\n",
       "      <td>5.366105</td>\n",
       "    </tr>\n",
       "    <tr>\n",
       "      <th>3</th>\n",
       "      <td>1.629905</td>\n",
       "      <td>49.0</td>\n",
       "      <td>9.861814</td>\n",
       "    </tr>\n",
       "    <tr>\n",
       "      <th>4</th>\n",
       "      <td>-0.076524</td>\n",
       "      <td>4.0</td>\n",
       "      <td>4.073768</td>\n",
       "    </tr>\n",
       "  </tbody>\n",
       "</table>\n",
       "</div>"
      ],
      "text/plain": [
       "         d1    d2        d3\n",
       "0  0.541127  11.0 -0.681984\n",
       "1 -2.175816  18.0  6.871969\n",
       "2 -0.824084   5.0  5.366105\n",
       "3  1.629905  49.0  9.861814\n",
       "4 -0.076524   4.0  4.073768"
      ]
     },
     "execution_count": 64,
     "metadata": {},
     "output_type": "execute_result"
    }
   ],
   "source": [
    "d1 = randn(60)\n",
    "d2 = random.sample(range(100),60) \n",
    "d3 = [random.gauss(2,3) for i in range(0,60)]\n",
    "df1_array = np.array([d1,d2,d3]).T\n",
    "df1 = pd.DataFrame(df1_array, columns = ['d1','d2','d3'])\n",
    "df1.head()"
   ]
  },
  {
   "cell_type": "markdown",
   "metadata": {},
   "source": [
    "# T test \n",
    "# ==========================================\n",
    "\n",
    "The Student's t-test is a statistical hypothesis test that two independent data samples known to have a Gaussian distribution. One of the most commonly used t-tests is the independent samples t test. We can use this test whenever we want to compare the means of two indpendent samples on a given a vairable. \n",
    "\n",
    "\n",
    "The assumption or null hypothesis of the test is that the means of two populations are equal. A rejection of hypothesis indicates that there is suffiencient evidence that the means of the populations are different, and in turn the distributions are not equal. \n",
    "###  • Fail to reject Ho: Sample distributions are equal. \n",
    "### • Reject Ho: Sample distributions are not equal. \n",
    "The Student's t-test is availbale in python via the ttest_ind() Scipy function. The function takes two data samples as arguments and returns the calculated satistic and p-value. "
   ]
  },
  {
   "cell_type": "code",
   "execution_count": 53,
   "metadata": {},
   "outputs": [],
   "source": [
    "# independent sample t test \n",
    "from scipy.stats import ttest_ind \n",
    "stat, p = ttest_ind(d1,d2)"
   ]
  },
  {
   "cell_type": "markdown",
   "metadata": {},
   "source": [
    "# Paired Student t test \n",
    "\n",
    "If we want to compare the means between two data samples that are related in some way "
   ]
  },
  {
   "cell_type": "code",
   "execution_count": 54,
   "metadata": {},
   "outputs": [
    {
     "name": "stdout",
     "output_type": "stream",
     "text": [
      "-12.874946522305466 8.75938658172604e-19\n"
     ]
    }
   ],
   "source": [
    "# paired sample t test \n",
    "from scipy.stats import ttest_rel\n",
    "stat, p = ttest_rel(d1,d2)\n",
    "print(stat,p)"
   ]
  },
  {
   "cell_type": "markdown",
   "metadata": {},
   "source": [
    "# ANOVA \n",
    "\n",
    "The purpose of one way anova is to compare the means of two or more groups on one independent variable to see if the group means are significantly different from each other. \n",
    "\n",
    "the test requires that the data samples are a gaussuan distributions, that the samplea are independent, and all the data samples have the same standard deviation. \n",
    "\n",
    "anova can be performed using scipy f_oneway() scipy function "
   ]
  },
  {
   "cell_type": "code",
   "execution_count": 55,
   "metadata": {},
   "outputs": [
    {
     "name": "stdout",
     "output_type": "stream",
     "text": [
      "161.22134677421866 1.3478848682168424e-40\n"
     ]
    }
   ],
   "source": [
    "# one way anova \n",
    "from scipy.stats import f_oneway\n",
    "stat, p = f_oneway(d2,d1,d3)\n",
    "print(stat, p)"
   ]
  },
  {
   "cell_type": "code",
   "execution_count": null,
   "metadata": {},
   "outputs": [],
   "source": []
  },
  {
   "cell_type": "code",
   "execution_count": 57,
   "metadata": {},
   "outputs": [
    {
     "data": {
      "text/html": [
       "<div>\n",
       "<style scoped>\n",
       "    .dataframe tbody tr th:only-of-type {\n",
       "        vertical-align: middle;\n",
       "    }\n",
       "\n",
       "    .dataframe tbody tr th {\n",
       "        vertical-align: top;\n",
       "    }\n",
       "\n",
       "    .dataframe thead th {\n",
       "        text-align: right;\n",
       "    }\n",
       "</style>\n",
       "<table border=\"1\" class=\"dataframe\">\n",
       "  <thead>\n",
       "    <tr style=\"text-align: right;\">\n",
       "      <th></th>\n",
       "      <th>Source</th>\n",
       "      <th>ddof1</th>\n",
       "      <th>ddof2</th>\n",
       "      <th>F</th>\n",
       "      <th>p-unc</th>\n",
       "      <th>p-GG-corr</th>\n",
       "      <th>np2</th>\n",
       "      <th>eps</th>\n",
       "      <th>sphericity</th>\n",
       "      <th>W-spher</th>\n",
       "      <th>p-spher</th>\n",
       "    </tr>\n",
       "  </thead>\n",
       "  <tbody>\n",
       "    <tr>\n",
       "      <th>0</th>\n",
       "      <td>Within</td>\n",
       "      <td>2</td>\n",
       "      <td>118</td>\n",
       "      <td>158.022449</td>\n",
       "      <td>4.231494e-34</td>\n",
       "      <td>1.617417e-18</td>\n",
       "      <td>0.728139</td>\n",
       "      <td>0.505865</td>\n",
       "      <td>False</td>\n",
       "      <td>0.023187</td>\n",
       "      <td>3.909043e-48</td>\n",
       "    </tr>\n",
       "  </tbody>\n",
       "</table>\n",
       "</div>"
      ],
      "text/plain": [
       "   Source  ddof1  ddof2           F         p-unc     p-GG-corr       np2  \\\n",
       "0  Within      2    118  158.022449  4.231494e-34  1.617417e-18  0.728139   \n",
       "\n",
       "        eps  sphericity   W-spher       p-spher  \n",
       "0  0.505865       False  0.023187  3.909043e-48  "
      ]
     },
     "execution_count": 57,
     "metadata": {},
     "output_type": "execute_result"
    }
   ],
   "source": [
    "# repeated measures anova \n",
    "png.rm_anova(pd.DataFrame([d1,d2,d3]).T) "
   ]
  },
  {
   "cell_type": "markdown",
   "metadata": {},
   "source": [
    "## CHI -SQAURE\n",
    "\n",
    "## Comparison of the Chi-Square Tests\n",
    "You have seen the χ2 test statistic used in three different circumstances. The following bulleted list is a summary that will help you decide which χ2 test is the appropriate one to use.\n",
    "\n",
    "### Goodness-of-Fit:\n",
    "Use the goodness-of-fit test to decide whether a population with an unknown distribution \"fits\" a known distribution. In this case there will be a single qualitative survey question or a single outcome of an experiment from a single population. Goodness-of-Fit is typically used to see if the population is uniform (all outcomes occur with equal frequency), the population is normal, or the population is the same as another population with a known distribution. The null and alternative hypotheses are:\n",
    "H0: The population fits the given distribution.\n",
    "\n",
    "Ha: The population does not fit the given distribution.\n",
    "\n",
    "### Independence: \n",
    "Use the test for independence to decide whether two variables (factors) are independent or dependent. In this case there will be two qualitative survey questions or experiments and a contingency table will be constructed. The goal is to see if the two variables are unrelated (independent) or related (dependent). The null and alternative hypotheses are:\n",
    "H0: The two variables (factors) are independent.\n",
    "\n",
    "Ha: The two variables (factors) are dependent.\n",
    "\n",
    "\n",
    "NOTE: if the deviations are larger then there is similarity betweent the features. so we reject the null hypothesis if the chisqaure statistics is larger.( implies that p value is lower) \n",
    "\n",
    "### Homogeneity:\n",
    "Use the test for homogeneity to decide if two populations with unknown distributions have the same distribution as each other. In this case there will be a single qualitative survey question or experiment given to two different populations. The null and alternative hypotheses are:\n",
    "H0: The two populations follow the same distribution.\n",
    "\n",
    "Ha: The two populations have different distributions.\n",
    "\n",
    "\n"
   ]
  },
  {
   "cell_type": "code",
   "execution_count": 80,
   "metadata": {},
   "outputs": [],
   "source": [
    "f1 = [random.choice(['male','female']) for i in range(15)] \n",
    "f2 = [random.choice(['yes','no']) for i in range(15)]\n",
    "f3 = [random.choice(['maths','dl','ml','stats']) for i in range(15)]"
   ]
  },
  {
   "cell_type": "code",
   "execution_count": 85,
   "metadata": {},
   "outputs": [
    {
     "data": {
      "text/html": [
       "<div>\n",
       "<style scoped>\n",
       "    .dataframe tbody tr th:only-of-type {\n",
       "        vertical-align: middle;\n",
       "    }\n",
       "\n",
       "    .dataframe tbody tr th {\n",
       "        vertical-align: top;\n",
       "    }\n",
       "\n",
       "    .dataframe thead th {\n",
       "        text-align: right;\n",
       "    }\n",
       "</style>\n",
       "<table border=\"1\" class=\"dataframe\">\n",
       "  <thead>\n",
       "    <tr style=\"text-align: right;\">\n",
       "      <th></th>\n",
       "      <th>f1</th>\n",
       "      <th>f2</th>\n",
       "      <th>f3</th>\n",
       "    </tr>\n",
       "  </thead>\n",
       "  <tbody>\n",
       "    <tr>\n",
       "      <th>0</th>\n",
       "      <td>female</td>\n",
       "      <td>yes</td>\n",
       "      <td>maths</td>\n",
       "    </tr>\n",
       "    <tr>\n",
       "      <th>1</th>\n",
       "      <td>male</td>\n",
       "      <td>no</td>\n",
       "      <td>stats</td>\n",
       "    </tr>\n",
       "    <tr>\n",
       "      <th>2</th>\n",
       "      <td>male</td>\n",
       "      <td>no</td>\n",
       "      <td>maths</td>\n",
       "    </tr>\n",
       "    <tr>\n",
       "      <th>3</th>\n",
       "      <td>female</td>\n",
       "      <td>no</td>\n",
       "      <td>maths</td>\n",
       "    </tr>\n",
       "    <tr>\n",
       "      <th>4</th>\n",
       "      <td>male</td>\n",
       "      <td>no</td>\n",
       "      <td>dl</td>\n",
       "    </tr>\n",
       "  </tbody>\n",
       "</table>\n",
       "</div>"
      ],
      "text/plain": [
       "       f1   f2     f3\n",
       "0  female  yes  maths\n",
       "1    male   no  stats\n",
       "2    male   no  maths\n",
       "3  female   no  maths\n",
       "4    male   no     dl"
      ]
     },
     "execution_count": 85,
     "metadata": {},
     "output_type": "execute_result"
    }
   ],
   "source": [
    "df2_array = np.array([f1,f2,f3]).T\n",
    "df2 = pd.DataFrame(df2_array, columns = ['f1','f2','f3'])\n",
    "df2.head()"
   ]
  },
  {
   "cell_type": "code",
   "execution_count": 97,
   "metadata": {},
   "outputs": [
    {
     "name": "stdout",
     "output_type": "stream",
     "text": [
      "f3      dl  maths  ml  stats\n",
      "f1                          \n",
      "female   1      2   1      1\n",
      "male     2      2   5      1\n",
      "0.6822703303362125\n",
      "Independent (fail to reject H0)\n"
     ]
    }
   ],
   "source": [
    "table = pd.crosstab(index=df2.f1, columns=df2.f3)\n",
    "stat, p, dof, expected = chi2_contingency(table)\n",
    "\n",
    "\n",
    "print(table) \n",
    "print(p)\n",
    "# interpret test-statistic\n",
    "prob = 0.95\n",
    "from scipy.stats import chi2\n",
    "critical = chi2.ppf(prob, dof)\n",
    "if abs(stat) >= critical:\n",
    "    print('Dependent (reject H0)')\n",
    "else:\n",
    "    print('Independent (fail to reject H0)')"
   ]
  },
  {
   "cell_type": "code",
   "execution_count": null,
   "metadata": {},
   "outputs": [],
   "source": []
  },
  {
   "cell_type": "code",
   "execution_count": null,
   "metadata": {},
   "outputs": [],
   "source": []
  },
  {
   "cell_type": "code",
   "execution_count": null,
   "metadata": {},
   "outputs": [],
   "source": []
  }
 ],
 "metadata": {
  "kernelspec": {
   "display_name": "Python 3",
   "language": "python",
   "name": "python3"
  },
  "language_info": {
   "codemirror_mode": {
    "name": "ipython",
    "version": 3
   },
   "file_extension": ".py",
   "mimetype": "text/x-python",
   "name": "python",
   "nbconvert_exporter": "python",
   "pygments_lexer": "ipython3",
   "version": "3.8.3"
  }
 },
 "nbformat": 4,
 "nbformat_minor": 4
}
